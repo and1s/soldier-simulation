{
 "cells": [
  {
   "cell_type": "code",
   "execution_count": 1,
   "metadata": {},
   "outputs": [],
   "source": [
    "import numpy as np\n",
    "from scipy.signal import convolve2d\n",
    "from time import time\n",
    "\n",
    "import matplotlib.pyplot as plt"
   ]
  },
  {
   "cell_type": "code",
   "execution_count": 2,
   "metadata": {},
   "outputs": [],
   "source": [
    "n_soldiers = 100\n",
    "n_castles = 10"
   ]
  },
  {
   "cell_type": "markdown",
   "metadata": {},
   "source": [
    "# helper functions"
   ]
  },
  {
   "cell_type": "code",
   "execution_count": 3,
   "metadata": {},
   "outputs": [],
   "source": [
    "def random_allocation(n):\n",
    "    return np.random.multinomial(\n",
    "        n_soldiers, \n",
    "        np.ones(n_castles)/n_castles, \n",
    "        size=n\n",
    "    )\n",
    "\n",
    "def get_enemy_sample(n):\n",
    "    return random_allocation(n)\n",
    "\n",
    "def win_adjustment(wins):\n",
    "    # applies rolling window sum for every sequence of 3 wins\n",
    "    # when we see a 3 in conv, it means there were 3 wins in a row\n",
    "    conv = convolve2d(wins, np.ones((1,3)), mode=\"full\")\n",
    "    # remove last 2 cols bc they are extra\n",
    "    conv = conv[:,:-2]\n",
    "\n",
    "    # gives index of first 3 in each row (if no 3, returns 0)\n",
    "    idxs = np.argmax(conv == 3, axis=1)\n",
    "\n",
    "    # cumulative sum of #3s per row\n",
    "    # we only care if this is >0\n",
    "    num_3s_per_row = np.cumsum(conv == 3, axis=1)\n",
    "\n",
    "    # any castle after a 3rd win in a row is set to a True win\n",
    "    wins[num_3s_per_row > 0] = True\n",
    "    return wins\n",
    "\n",
    "def calculate_wins(my_allocation, enemy_samples):\n",
    "    # win if we have more troops\n",
    "    mine_tiled = np.tile(my_allocation, enemy_samples.shape[0]).reshape(-1,n_castles)\n",
    "    wins = my_allocation > enemy_samples\n",
    "    losses = my_allocation < enemy_samples\n",
    "\n",
    "    # change from boolean to +1 / -1 and set ties\n",
    "    wins_int = wins * 2 - 1\n",
    "    wins_int[wins == losses] = 0\n",
    "\n",
    "    # handle 3 wins in a row\n",
    "    wins_final = win_adjustment(wins_int)\n",
    "    \n",
    "    scores = wins_final @ np.arange(1,n_castles+1)\n",
    "    return (scores > 0).mean()   # probability of win"
   ]
  },
  {
   "cell_type": "markdown",
   "metadata": {},
   "source": [
    "# actual code\n",
    "\n",
    "- Calculates 5000 random possible allocations of my troops\n",
    "- For each allocation of my troops, calculates 5000 random allocations of enemy's troops and finds estimate of P(I win)\n",
    "\n",
    "You could actually make this more efficient by using a 3d numpy array and doing all these operations across the 3rd axis, instead of using a for loop.\n",
    "\n",
    "Moral of the story is you don't want to be running for loops in general."
   ]
  },
  {
   "cell_type": "code",
   "execution_count": 4,
   "metadata": {},
   "outputs": [
    {
     "name": "stdout",
     "output_type": "stream",
     "text": [
      "3 min, 9 sec\n"
     ]
    }
   ],
   "source": [
    "n_enemy_samples = 10000\n",
    "n_my_samples = 10000\n",
    "\n",
    "win_probs = np.zeros(n_my_samples)\n",
    "my_samples = np.zeros((n_my_samples, n_castles))\n",
    "\n",
    "start = time()\n",
    "for i in range(n_my_samples):\n",
    "    mine = random_allocation(1)\n",
    "    enemy_samples = random_allocation(n_enemy_samples)\n",
    "    win_probs[i] = calculate_wins(mine, enemy_samples)\n",
    "    my_samples[i] = mine\n",
    "\n",
    "seconds = time() - start\n",
    "print(f\"{int(seconds // 60)} min, {int(seconds % 60)} sec\")"
   ]
  },
  {
   "cell_type": "code",
   "execution_count": 14,
   "metadata": {},
   "outputs": [
    {
     "data": {
      "image/png": "[encoded data removed]",
      "text/plain": [
       "<Figure size 432x288 with 1 Axes>"
      ]
     },
     "metadata": {
      "needs_background": "light"
     },
     "output_type": "display_data"
    }
   ],
   "source": [
    "plt.hist(win_probs)\n",
    "plt.title(\"P(win) distribution for all sampled allocations\")\n",
    "plt.xlabel(\"P(win)\")\n",
    "plt.ylabel(\"frequency\")\n",
    "\n",
    "plt.show()"
   ]
  },
  {
   "cell_type": "markdown",
   "metadata": {},
   "source": [
    "Let's look at how sensitive our probability estimates are to whichever enemy samples we draw."
   ]
  },
  {
   "cell_type": "code",
   "execution_count": 6,
   "metadata": {},
   "outputs": [],
   "source": [
    "def sensitivity(alloc):\n",
    "    win_probs = []\n",
    "    for i in range(300):\n",
    "        new_enemies = random_allocation(n_enemy_samples)\n",
    "        new_prob = calculate_wins(alloc, new_enemies)\n",
    "        win_probs.append(calculate_wins(alloc, new_enemies))\n",
    "    return win_probs"
   ]
  },
  {
   "cell_type": "code",
   "execution_count": 7,
   "metadata": {},
   "outputs": [],
   "source": [
    "best_allocation = my_samples[np.argmax(win_probs)]\n",
    "second_best = my_samples[np.argsort(win_probs)[-2]]"
   ]
  },
  {
   "cell_type": "code",
   "execution_count": 8,
   "metadata": {},
   "outputs": [],
   "source": [
    "best_prob = np.max(win_probs)\n",
    "second_best_prob = np.sort(win_probs)[-2]"
   ]
  },
  {
   "cell_type": "code",
   "execution_count": 9,
   "metadata": {},
   "outputs": [],
   "source": [
    "best_sensitivity = sensitivity(best_allocation)\n",
    "second_sensitivity = sensitivity(second_best)"
   ]
  },
  {
   "cell_type": "code",
   "execution_count": 10,
   "metadata": {},
   "outputs": [
    {
     "data": {
      "image/png": "[encoded data removed]",
      "text/plain": [
       "<Figure size 432x288 with 1 Axes>"
      ]
     },
     "metadata": {
      "needs_background": "light"
     },
     "output_type": "display_data"
    }
   ],
   "source": [
    "# look at sensitivity of our estimate to which enemy samples we draw\n",
    "\n",
    "plt.hist(best_sensitivity, alpha=0.5)\n",
    "plt.hist(second_sensitivity, alpha=0.5)\n",
    "\n",
    "# plot estimates\n",
    "plt.axvline(best_prob)\n",
    "plt.axvline(second_best_prob, color=\"C1\")\n",
    "\n",
    "plt.title(\"Estimate Sensitivity to Enemy Samples for Best and 2nd Best Alloc\")\n",
    "plt.xlabel(\"P(win)\")\n",
    "plt.ylabel(\"frequency\")\n",
    "\n",
    "plt.show()"
   ]
  },
  {
   "cell_type": "markdown",
   "metadata": {},
   "source": [
    "So based on the above, it looks like there might be some overlap, but on the whole we can generally trust our estimates.\n",
    "\n",
    "But really this is a naive approach to this problem. This is called a **maximin** problem in game theory and optimization: you are trying to maximize your opponent's minimum score.\n",
    "\n",
    "So you'd have to take into account all of your opponent's possible moves (assuming that they're rational). In this notebook, we've assumed that the enemy chooses a random allocation of troops. Instead, they're choosing an optimal strategy for themselves. So, you need to choose an optimal strategy that takes into account that **your enemy is choosing their own optimal strategy**, which is where this gets complicated. \n",
    "\n",
    "[Here](https://www.youtube.com/watch?v=2frw1TarJuQ) is a good video (8 min) with more information on game theory.\n",
    "\n",
    "And if you don't have it already, I use [this](https://chrome.google.com/webstore/detail/remove-youtube-recommende/khncfooichmfjbepaaaebmommgaepoid?hl=en) to get rid of YouTube clickbait."
   ]
  },
  {
   "cell_type": "code",
   "execution_count": null,
   "metadata": {},
   "outputs": [],
   "source": []
  },
  {
   "cell_type": "code",
   "execution_count": null,
   "metadata": {},
   "outputs": [],
   "source": []
  },
  {
   "cell_type": "code",
   "execution_count": null,
   "metadata": {},
   "outputs": [],
   "source": []
  },
  {
   "cell_type": "code",
   "execution_count": null,
   "metadata": {},
   "outputs": [],
   "source": []
  }
 ],
 "metadata": {
  "kernelspec": {
   "display_name": "Python 3",
   "language": "python",
   "name": "python3"
  },
  "language_info": {
   "codemirror_mode": {
    "name": "ipython",
    "version": 3
   },
   "file_extension": ".py",
   "mimetype": "text/x-python",
   "name": "python",
   "nbconvert_exporter": "python",
   "pygments_lexer": "ipython3",
   "version": "3.8.5"
  }
 },
 "nbformat": 4,
 "nbformat_minor": 4
}
