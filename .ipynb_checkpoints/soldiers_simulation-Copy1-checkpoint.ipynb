{
 "cells": [
  {
   "cell_type": "code",
   "execution_count": 7,
   "metadata": {},
   "outputs": [],
   "source": [
    "import random, math"
   ]
  },
  {
   "cell_type": "code",
   "execution_count": 60,
   "metadata": {},
   "outputs": [],
   "source": [
    "def competitor_maker():\n",
    "    soldiers_left = 101\n",
    "    leader_strategy = []\n",
    "    for x in range(10):\n",
    "        num_soldiers = int(random.random()*soldiers_left)\n",
    "        leader_strategy.append(num_soldiers)\n",
    "        soldiers_left -= num_soldiers\n",
    "    return leader_strategy, sum(leader_strategy)\n"
   ]
  },
  {
   "cell_type": "code",
   "execution_count": 179,
   "metadata": {},
   "outputs": [
    {
     "name": "stdout",
     "output_type": "stream",
     "text": [
      "952\n"
     ]
    }
   ],
   "source": [
    "my_comp_arr = []\n",
    "my_comp_dict = {}\n",
    "for x in range(1000):\n",
    "    my_comp, my_comp_sum = competitor_maker()\n",
    "    if str(my_comp) in my_comp_dict:\n",
    "        pass\n",
    "    else:\n",
    "        my_comp_arr.append(my_comp)\n",
    "        my_comp_dict[str(my_comp)] = 0\n",
    "print(len(my_comp_arr))"
   ]
  },
  {
   "cell_type": "code",
   "execution_count": 149,
   "metadata": {},
   "outputs": [],
   "source": [
    "def match_players(p1_strat, p2_strat):\n",
    "    win_list= []\n",
    "    p1_score = 0\n",
    "    p2_score = 0\n",
    "    for x in range(len(p1_strat)):\n",
    "        if(p1_strat[x] > p2_strat[x]):\n",
    "            win_list.append(\"p1\")\n",
    "        elif(p1_strat[x] < p2_strat[x]):\n",
    "            win_list.append(\"p2\")\n",
    "        else:\n",
    "            win_list.append(\"neither\")\n",
    "    streak = 1\n",
    "    last = None\n",
    "    for castle in range(len(win_list)):\n",
    "        if(streak >= 3):\n",
    "            if(last == \"p1\"):\n",
    "                p1_score += castle+1\n",
    "            elif(last == \"p2\"):\n",
    "                p2_score += castle+1\n",
    "        else:\n",
    "            if win_list[castle] == last:\n",
    "                streak += 1\n",
    "            else:\n",
    "                streak = 1\n",
    "            if win_list[castle]== \"p1\":\n",
    "                p1_score += castle+1\n",
    "            elif win_list[castle] == \"p2\":\n",
    "                p2_score += castle+1\n",
    "            last = win_list[castle]\n",
    "    if p1_score > p2_score:\n",
    "        return str(p1_strat)\n",
    "    elif p1_score < p2_score:\n",
    "        return str(p2_strat)"
   ]
  },
  {
   "cell_type": "code",
   "execution_count": 180,
   "metadata": {},
   "outputs": [
    {
     "name": "stdout",
     "output_type": "stream",
     "text": [
      "452676\n"
     ]
    }
   ],
   "source": [
    "num_matches = 0\n",
    "for p1 in range(len(my_comp_arr)):\n",
    "    for p2 in range(p1+1,len(my_comp_arr)):\n",
    "        #add one to dictionary of player that wins\n",
    "        winner = match_players(my_comp_arr[p1], my_comp_arr[p2])\n",
    "        if winner:\n",
    "            my_comp_dict[winner] += 1\n",
    "        num_matches += 1\n",
    "print(num_matches)"
   ]
  },
  {
   "cell_type": "code",
   "execution_count": 181,
   "metadata": {},
   "outputs": [
    {
     "data": {
      "text/plain": [
       "'[4, 30, 28, 15, 3, 9, 8, 3, 0, 0]'"
      ]
     },
     "execution_count": 181,
     "metadata": {},
     "output_type": "execute_result"
    }
   ],
   "source": [
    "max(my_comp_dict, key=my_comp_dict.get)"
   ]
  },
  {
   "cell_type": "code",
   "execution_count": null,
   "metadata": {},
   "outputs": [],
   "source": []
  }
 ],
 "metadata": {
  "kernelspec": {
   "display_name": "Python 3",
   "language": "python",
   "name": "python3"
  },
  "language_info": {
   "codemirror_mode": {
    "name": "ipython",
    "version": 3
   },
   "file_extension": ".py",
   "mimetype": "text/x-python",
   "name": "python",
   "nbconvert_exporter": "python",
   "pygments_lexer": "ipython3",
   "version": "3.8.3"
  }
 },
 "nbformat": 4,
 "nbformat_minor": 4
}
